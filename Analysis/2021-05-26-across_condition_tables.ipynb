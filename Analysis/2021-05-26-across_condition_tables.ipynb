{
 "metadata": {
  "language_info": {
   "codemirror_mode": {
    "name": "ipython",
    "version": 3
   },
   "file_extension": ".py",
   "mimetype": "text/x-python",
   "name": "python",
   "nbconvert_exporter": "python",
   "pygments_lexer": "ipython3",
   "version": "3.6.0"
  },
  "orig_nbformat": 2,
  "kernelspec": {
   "name": "python360jvsc74a57bd061378dbc7c053aa09f02ef0e00f7a50e54fae7f7144b65331ede3aa1204c339b",
   "display_name": "Python 3.6.0 64-bit (conda)"
  }
 },
 "nbformat": 4,
 "nbformat_minor": 2,
 "cells": [
  {
   "source": [
    "We depend on this sync_lib library that is one folder above"
   ],
   "cell_type": "markdown",
   "metadata": {}
  },
  {
   "cell_type": "code",
   "execution_count": 63,
   "metadata": {},
   "outputs": [
    {
     "output_type": "stream",
     "name": "stdout",
     "text": [
      "Collecting tabulate\n",
      "  Downloading tabulate-0.8.9-py3-none-any.whl (25 kB)\n",
      "Installing collected packages: tabulate\n",
      "Successfully installed tabulate-0.8.9\n",
      "\u001b[33mWARNING: You are using pip version 20.2.3; however, version 21.1.2 is available.\n",
      "You should consider upgrading via the '/Users/jeromel/anaconda2/envs/deep_work/bin/python -m pip install --upgrade pip' command.\u001b[0m\n"
     ]
    }
   ],
   "source": [
    "import sys\n",
    "!pip install tabulate\n",
    "sys.path.append('../')"
   ]
  },
  {
   "cell_type": "code",
   "execution_count": 12,
   "metadata": {},
   "outputs": [],
   "source": [
    "from sync_lib import Dataset\n",
    "import matplotlib.pylab as plt\n",
    "import numpy as np\n",
    "import glob\n",
    "import pandas as pd"
   ]
  },
  {
   "source": [
    "Path to relevant sync file"
   ],
   "cell_type": "markdown",
   "metadata": {}
  },
  {
   "cell_type": "code",
   "execution_count": 7,
   "metadata": {},
   "outputs": [],
   "source": [
    "list_h5_files = glob.glob(\"*/*.h5\")"
   ]
  },
  {
   "cell_type": "code",
   "execution_count": 8,
   "metadata": {},
   "outputs": [
    {
     "output_type": "execute_result",
     "data": {
      "text/plain": [
       "['det_change_long_no_licks/2021T143928.h5',\n",
       " 'detection_of_change_with_camera/2021T15144.h5',\n",
       " 'det_change_short_manual/2021T17922.h5',\n",
       " 'GridGratingDrawing/2021T134531.h5',\n",
       " 'keyboard_test_1/go_no_go_hardware_2021T155621.h5',\n",
       " 'detection_of_change_without_camera/2021T151449.h5',\n",
       " 'det_change_long_fake_lick_generator/2021T133340.h5',\n",
       " 'PassiveViewing_run1/2021T135255.h5',\n",
       " 'long_stim_test_1/go_no_go_hardware_2021T12950.h5']"
      ]
     },
     "metadata": {},
     "execution_count": 8
    }
   ],
   "source": [
    "list_h5_files"
   ]
  },
  {
   "cell_type": "code",
   "execution_count": 64,
   "metadata": {},
   "outputs": [
    {
     "output_type": "stream",
     "name": "stdout",
     "text": [
      "|                                     |   Bonsai rendering period mean |   Bonsai rendering std |   Photodiode driving period mean |   Photodiode driving period std |   Photodiode actual period mean |   Photodiode actual period std |   Photodiode dropped frames |\n",
      "|:------------------------------------|-------------------------------:|-----------------------:|---------------------------------:|--------------------------------:|--------------------------------:|-------------------------------:|----------------------------:|\n",
      "| det_change_long_no_licks            |                      0.0333329 |            0.000253716 |                         0.999986 |                     0.000158512 |                        0.999986 |                    1.67488e-05 |                           0 |\n",
      "| det_change_with_camera              |                      0.0333386 |            0.000942805 |                         0.999984 |                     6.55527e-05 |                        0.999984 |                    1.68234e-05 |                           0 |\n",
      "| det_change_short_manual             |                      0.0333359 |            0.00040231  |                         0.999984 |                     0.000271031 |                        0.999984 |                    1.55728e-05 |                           0 |\n",
      "| go_no_go_keyboard_test_1            |                      0.0333467 |            0.00149996  |                         0.999985 |                     0.000189803 |                        0.999985 |                    1.56983e-05 |                           0 |\n",
      "| det_change_without_camera           |                      0.0333362 |            0.000510709 |                         0.999984 |                     6.0889e-05  |                        0.999985 |                    1.55199e-05 |                           0 |\n",
      "| det_change_long_fake_lick_generator |                      0.033333  |            0.000229474 |                         0.999986 |                     0.000187263 |                        0.999986 |                    1.74524e-05 |                           0 |\n",
      "| passive_viewing_long                |                      0.0333349 |            0.000478835 |                         0.999986 |                     8.85987e-05 |                        0.999986 |                    1.66179e-05 |                           0 |\n",
      "| go_no_go_long_stim_test_1           |                      0.033333  |            0.00028457  |                         0.999986 |                     0.000137444 |                        0.999986 |                    1.60981e-05 |                           0 |\n",
      "/Users/jeromel/anaconda2/envs/deep_work/lib/python3.6/site-packages/h5py/_hl/dataset.py:313: H5pyDeprecationWarning: dataset.value has been deprecated. Use dataset[()] instead.\n",
      "  \"Use dataset[()] instead.\", H5pyDeprecationWarning)\n"
     ]
    }
   ],
   "source": [
    "rendering_mean = []\n",
    "rendering_std = []\n",
    "photodiode_driving_mean = []\n",
    "photodiode_driving_std = []\n",
    "photodiode_response_mean = []\n",
    "photodiode_response_std = []\n",
    "photodiode_dropped = []\n",
    "\n",
    "index = []\n",
    "for indiv_path in list_h5_files:\n",
    "    local_folder = indiv_path.split('/')[0]\n",
    "    dset = Dataset(indiv_path)\n",
    "    if not('GridGratingDrawing' in local_folder):\n",
    "        if 'detection_of_change_with_camera' in local_folder:\n",
    "            local_folder = 'det_change_with_camera'\n",
    "        if 'detection_of_change_without_camera' in local_folder:\n",
    "            local_folder = 'det_change_without_camera'\n",
    "        if 'PassiveViewing_run1' in local_folder:\n",
    "            local_folder = 'passive_viewing_long'\n",
    "        if 'long_stim_test_1' in local_folder:\n",
    "            local_folder = 'go_no_go_' + local_folder \n",
    "        if 'keyboard_test_1' in local_folder:\n",
    "            local_folder = 'go_no_go_' + local_folder \n",
    "\n",
    "        index.append(local_folder)\n",
    "\n",
    "        # This is the stim rendering period\n",
    "        times_bonsai_fast_sync = dset.get_rising_edges('vsync_stim', units='sec')\n",
    "        rendering_mean.append(np.mean(np.diff(times_bonsai_fast_sync[10:-10])))\n",
    "        rendering_std.append(np.std(np.diff(times_bonsai_fast_sync[10:-10])))\n",
    "\n",
    "        # This is the driving signal behind the photodiode\n",
    "        times_bonsai_driving_photodiode = dset.get_rising_edges(\n",
    "            'stim_running', units='sec')\n",
    "        photodiode_driving_mean.append(np.mean(np.diff(times_bonsai_driving_photodiode[10:-10])))\n",
    "        photodiode_driving_std.append(np.std(np.diff(times_bonsai_driving_photodiode[10:-10])))\n",
    "\n",
    "        # This is the measured photodiode signal\n",
    "        times_photodiode = dset.get_rising_edges('stim_photodiode', units='sec')\n",
    "        photodiode_response_mean.append(np.mean(np.diff(times_photodiode[10:-10])))\n",
    "        \n",
    "        period_photodiode = np.diff(times_photodiode[10:-10])\n",
    "\n",
    "        photodiode_response_std.append(np.std(period_photodiode))\n",
    "        \n",
    "        delta_photodiode = np.abs(np.diff(period_photodiode)-np.mean(np.diff(period_photodiode)))\n",
    "        photodiode_dropped.append(len(delta_photodiode[delta_photodiode>0.033]))\n",
    "\n",
    "all_dict = {'Bonsai rendering period mean':rendering_mean, 'Bonsai rendering std': rendering_std, 'Photodiode driving period mean': photodiode_driving_mean, 'Photodiode driving period std':photodiode_driving_std, 'Photodiode actual period mean':photodiode_response_mean, 'Photodiode actual period std':photodiode_response_std, 'Photodiode dropped frames':photodiode_dropped}\n",
    "df = pd.DataFrame(all_dict, columns = ['Bonsai rendering period mean'\n",
    "    ,'Bonsai rendering std', 'Photodiode driving period mean', 'Photodiode driving period std', 'Photodiode actual period mean', 'Photodiode actual period std', 'Photodiode dropped frames'], index = index)\n",
    "\n",
    "from pandas import DataFrame\n",
    "from tabulate import tabulate\n",
    "\n",
    "print(tabulate(df, tablefmt=\"pipe\", headers=\"keys\"))\n"
   ]
  }
 ]
}